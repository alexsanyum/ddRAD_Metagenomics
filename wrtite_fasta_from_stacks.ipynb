{
 "cells": [
  {
   "cell_type": "code",
   "execution_count": 1,
   "id": "82a242d1-dd0c-42bf-ad5f-483fb547e1f1",
   "metadata": {},
   "outputs": [],
   "source": [
    "import pandas as pd\n",
    "import numpy as np\n",
    "import glob\n",
    "import sys \n",
    "import os"
   ]
  },
  {
   "cell_type": "code",
   "execution_count": 4,
   "id": "c8c8c472-e4b2-4e30-a6d0-8caf8996be0a",
   "metadata": {},
   "outputs": [],
   "source": [
    "def read_matches(matches_file):\n",
    "    '''\n",
    "    This function reads .matches files from ustacks step and return the loci and sample ID. \n",
    "    This allow to match the sequences located in the catalog file with the sample for further analysis \n",
    "    '''\n",
    "    \n",
    "    matches = pd.read_csv(matches_file,sep='\\t',\n",
    "                          on_bad_lines='skip', \n",
    "                          skiprows=1 ,header=None, \n",
    "                          names = ['loci_id','sample_id','locus_id','h','depth','cigar'],\n",
    "                          usecols=['loci_id','sample_id'])\n",
    "    matches = matches[:-1]\n",
    "    matches = matches.astype({'loci_id':'str'})  # Return loci_id as string\n",
    "    \n",
    "    return matches\n",
    "\n",
    "def read_catalog(catalog_file):\n",
    "    '''\n",
    "    This function allow to get the loci id and the consensus sequence. Even if the file contains a sample column, \n",
    "    this is full of zeros, thats why we need to extract the id from matches file.\n",
    "    '''\n",
    "    \n",
    "    catalog = pd.read_csv(catalog_file,sep='\\t', header = None, \n",
    "                      names = ['sample_id','loci_id','consensus','st_comp','seq_id','seq','fl1','fl2','fl3'],\n",
    "                      usecols=['loci_id','seq'],\n",
    "                      dtype={'loci_id':'str'})\n",
    "    catalog = catalog[1:-1]\n",
    "    \n",
    "    return catalog\n",
    "\n",
    "def write_fasta(matches_file, catalog):\n",
    "    '''\n",
    "    This information create a fasta file from catalog and matches file. \n",
    "    First, the tables are merge into a single dataframe on the loci id column. Then, a pandas series \n",
    "    is created with the fasta header that contain the catalog and sample ID.\n",
    "    Finally, a fasta file is created using .to_csv function replacing the ',' separator by a '\\n'\n",
    "    '''\n",
    "    \n",
    "    matches = read_matches(matches_file)\n",
    "    merged = pd.merge(matches,catalog,on=['loci_id'])\n",
    "    \n",
    "    seq_name = '>Catalog: ' + merged.loci_id.astype('str') + ' Sample:'+ merged.sample_id.astype('str')\n",
    "    merged = pd.concat([seq_name,merged['seq']],axis = 1)\n",
    "    merged = merged.drop_duplicates()\n",
    "    \n",
    "    fst_name = os.path.basename(matches_file).split('.')[0]\n",
    "    fst_name += '.fasta'\n",
    "    merged.to_csv(fst_name, sep = '\\n',index = False,header=False)\n",
    "    print('{0} was imported succesfully'.format(os.path.basename(matches_file).split('.')[0]))\n"
   ]
  },
  {
   "cell_type": "code",
   "execution_count": 53,
   "id": "50ec4a4e-f994-4cb9-8687-95b653d13372",
   "metadata": {},
   "outputs": [
    {
     "name": "stdout",
     "output_type": "stream",
     "text": [
      "Ab_403_GAGTC-ATCACG was imported succesfully\n"
     ]
    },
    {
     "name": "stderr",
     "output_type": "stream",
     "text": [
      "/tmp/ipykernel_14442/389561293.py:2: DtypeWarning: Columns (0) have mixed types. Specify dtype option on import or set low_memory=False.\n",
      "  matches = pd.read_csv(matches_file,sep='\\t',\n"
     ]
    },
    {
     "name": "stdout",
     "output_type": "stream",
     "text": [
      "Er_462_GTCGA-CGATGT was imported succesfully\n",
      "Er_R-16_AGCTA-CGATGT was imported succesfully\n",
      "Ab_370_CGGTA-CGATGT was imported succesfully\n",
      "Er_466_TCTGC-ATCACG was imported succesfully\n",
      "Ab_394_CTGTC-ATCACG was imported succesfully\n"
     ]
    },
    {
     "name": "stderr",
     "output_type": "stream",
     "text": [
      "/tmp/ipykernel_14442/389561293.py:2: DtypeWarning: Columns (0) have mixed types. Specify dtype option on import or set low_memory=False.\n",
      "  matches = pd.read_csv(matches_file,sep='\\t',\n"
     ]
    },
    {
     "name": "stdout",
     "output_type": "stream",
     "text": [
      "Ch_362_CATAT-CGATGT was imported succesfully\n",
      "Au_05830_TCAGT-CGATGT was imported succesfully\n",
      "Ch_331_ACGGT-CGATGT was imported succesfully\n",
      "Ch_337_ACTGG-ATCACG was imported succesfully\n",
      "Er_446_GGATA-ATCACG was imported succesfully\n",
      "Au_05824_TACCG-CGATGT was imported succesfully\n"
     ]
    },
    {
     "name": "stderr",
     "output_type": "stream",
     "text": [
      "/tmp/ipykernel_14442/389561293.py:2: DtypeWarning: Columns (0) have mixed types. Specify dtype option on import or set low_memory=False.\n",
      "  matches = pd.read_csv(matches_file,sep='\\t',\n"
     ]
    },
    {
     "name": "stdout",
     "output_type": "stream",
     "text": [
      "Ch_358_ATGAG-CGATGT was imported succesfully\n",
      "Ch_363_CATAT-ATCACG was imported succesfully\n",
      "Er_460_TAGTA-ATCACG was imported succesfully\n",
      "Ab_402_GCCGT-CGATGT was imported succesfully\n",
      "Er_R-13_GGTTG-ATCACG was imported succesfully\n",
      "Ch_335_AATTA-ATCACG was imported succesfully\n",
      "Er_R-12_CAACC-ATCACG was imported succesfully\n",
      "Ab_387_CGTCG-CGATGT was imported succesfully\n"
     ]
    },
    {
     "name": "stderr",
     "output_type": "stream",
     "text": [
      "/tmp/ipykernel_14442/389561293.py:2: DtypeWarning: Columns (0) have mixed types. Specify dtype option on import or set low_memory=False.\n",
      "  matches = pd.read_csv(matches_file,sep='\\t',\n"
     ]
    },
    {
     "name": "stdout",
     "output_type": "stream",
     "text": [
      "Er_R-10_TGCAT-CGATGT was imported succesfully\n",
      "Er_R-03_AACCA-ATCACG was imported succesfully\n",
      "Ab_397_GACAC-ATCACG was imported succesfully\n"
     ]
    },
    {
     "name": "stderr",
     "output_type": "stream",
     "text": [
      "/tmp/ipykernel_14442/389561293.py:2: DtypeWarning: Columns (0) have mixed types. Specify dtype option on import or set low_memory=False.\n",
      "  matches = pd.read_csv(matches_file,sep='\\t',\n"
     ]
    },
    {
     "name": "stdout",
     "output_type": "stream",
     "text": [
      "Er_457_GTAGT-CGATGT was imported succesfully\n",
      "Au_05832_TCTGC-CGATGT was imported succesfully\n",
      "Ab_396_CTTGG-CGATGT was imported succesfully\n",
      "Ch_345_ATACG-ATCACG was imported succesfully\n",
      "Au_05826_TAGTA-CGATGT was imported succesfully\n",
      "Ab_365_CGAAT-CGATGT was imported succesfully\n"
     ]
    },
    {
     "name": "stderr",
     "output_type": "stream",
     "text": [
      "/tmp/ipykernel_14442/389561293.py:2: DtypeWarning: Columns (0) have mixed types. Specify dtype option on import or set low_memory=False.\n",
      "  matches = pd.read_csv(matches_file,sep='\\t',\n"
     ]
    },
    {
     "name": "stdout",
     "output_type": "stream",
     "text": [
      "Ab_399_GAGAT-CGATGT was imported succesfully\n",
      "Au_05829_TCACG-CGATGT was imported succesfully\n",
      "Ch_334_ACACA-ATCACG was imported succesfully\n",
      "Er_465_TCCGG-ATCACG was imported succesfully\n",
      "Er_R-08_CGATC-CGATGT was imported succesfully\n",
      "Ab_390_CTGAT-ATCACG was imported succesfully\n",
      "Au_05831_TCCGG-CGATGT was imported succesfully\n",
      "Ab_367_CGGTA-ATCACG was imported succesfully\n",
      "Er_451_GTAGT-ATCACG was imported succesfully\n"
     ]
    },
    {
     "name": "stderr",
     "output_type": "stream",
     "text": [
      "/tmp/ipykernel_14442/389561293.py:2: DtypeWarning: Columns (0) have mixed types. Specify dtype option on import or set low_memory=False.\n",
      "  matches = pd.read_csv(matches_file,sep='\\t',\n"
     ]
    },
    {
     "name": "stdout",
     "output_type": "stream",
     "text": [
      "Ab_392_CTGTC-CGATGT was imported succesfully\n"
     ]
    },
    {
     "name": "stderr",
     "output_type": "stream",
     "text": [
      "/tmp/ipykernel_14442/389561293.py:2: DtypeWarning: Columns (0) have mixed types. Specify dtype option on import or set low_memory=False.\n",
      "  matches = pd.read_csv(matches_file,sep='\\t',\n"
     ]
    },
    {
     "name": "stdout",
     "output_type": "stream",
     "text": [
      "Er_449_GGATA-CGATGT was imported succesfully\n",
      "Au_05836_TTACC-ATCACG was imported succesfully\n",
      "Er_R-17_ACACA-CGATGT was imported succesfully\n",
      "Er_464_TCAGT-ATCACG was imported succesfully\n",
      "Er_R-05_TCGAT-ATCACG was imported succesfully\n",
      "Ab_368_CGGCT-CGATGT was imported succesfully\n",
      "Er_R-09_TCGAT-CGATGT was imported succesfully\n",
      "Er_411_GCTGA-ATCACG was imported succesfully\n",
      "Ab_393_CTGCG-ATCACG was imported succesfully\n",
      "Er_R-07_TGCAT-ATCACG was imported succesfully\n"
     ]
    },
    {
     "name": "stderr",
     "output_type": "stream",
     "text": [
      "/tmp/ipykernel_14442/389561293.py:2: DtypeWarning: Columns (0) have mixed types. Specify dtype option on import or set low_memory=False.\n",
      "  matches = pd.read_csv(matches_file,sep='\\t',\n"
     ]
    },
    {
     "name": "stdout",
     "output_type": "stream",
     "text": [
      "Ch_339_ACTGG-CGATGT was imported succesfully\n",
      "Ab_400_GAGAT-ATCACG was imported succesfully\n",
      "Ch_360_ATTAC-CGATGT was imported succesfully\n",
      "Er_R-11_CAACC-CGATGT was imported succesfully\n",
      "Ab_398_GACAC-CGATGT was imported succesfully\n",
      "Er_463_TCACG-ATCACG was imported succesfully\n",
      "Ch_359_ATGAG-ATCACG was imported succesfully\n"
     ]
    },
    {
     "name": "stderr",
     "output_type": "stream",
     "text": [
      "/tmp/ipykernel_14442/389561293.py:2: DtypeWarning: Columns (0) have mixed types. Specify dtype option on import or set low_memory=False.\n",
      "  matches = pd.read_csv(matches_file,sep='\\t',\n"
     ]
    },
    {
     "name": "stdout",
     "output_type": "stream",
     "text": [
      "Ab_388_CTGAT-CGATGT was imported succesfully\n",
      "Au_05825_TACGT-CGATGT was imported succesfully\n",
      "Ch_346_ACTTC-CGATGT was imported succesfully\n",
      "Ab_369_CGTAC-ATCACG was imported succesfully\n",
      "Au_05827_TGGAA-ATCACG was imported succesfully\n",
      "Er_455_TACCG-ATCACG was imported succesfully\n",
      "Ab_371_CGTAC-CGATGT was imported succesfully\n",
      "Ch_364_CGAAT-ATCACG was imported succesfully\n",
      "Ab_391_CTGCG-CGATGT was imported succesfully\n",
      "Ab_395_CTTGG-ATCACG was imported succesfully\n",
      "Er_453_GTCGA-ATCACG was imported succesfully\n",
      "Er_461_TATAC-ATCACG was imported succesfully\n",
      "Er_R-04_CGATC-ATCACG was imported succesfully\n",
      "Ab_389_CGTCG-ATCACG was imported succesfully\n",
      "Er_R-01_GCATG-ATCACG was imported succesfully\n",
      "Er_456_GGCTC-CGATGT was imported succesfully\n",
      "Ab_404_GCCGT-ATCACG was imported succesfully\n",
      "Ch_361_ATTAC-ATCACG was imported succesfully\n"
     ]
    },
    {
     "name": "stderr",
     "output_type": "stream",
     "text": [
      "/tmp/ipykernel_14442/389561293.py:2: DtypeWarning: Columns (0) have mixed types. Specify dtype option on import or set low_memory=False.\n",
      "  matches = pd.read_csv(matches_file,sep='\\t',\n"
     ]
    },
    {
     "name": "stdout",
     "output_type": "stream",
     "text": [
      "Er_R-14_GGTTG-CGATGT was imported succesfully\n",
      "Au_05835_TTACC-CGATGT was imported succesfully\n",
      "Au_05834_TGGAA-CGATGT was imported succesfully\n",
      "Er_447_GGCCA-ATCACG was imported succesfully\n",
      "Er_448_GGCTC-ATCACG was imported succesfully\n",
      "Er_452_GTCCG-ATCACG was imported succesfully\n",
      "Ab_401_GAGTC-CGATGT was imported succesfully\n",
      "Er_458_TACGT-ATCACG was imported succesfully\n",
      "Ch_338_ACTTC-ATCACG was imported succesfully\n",
      "Ch_357_ATACG-CGATGT was imported succesfully\n",
      "Ch_333_AGCTA-ATCACG was imported succesfully\n",
      "Er_R-02_GCATG-CGATGT was imported succesfully\n",
      "Au_05833_CTGCG-CGATGT was imported succesfully\n",
      "Ch_336_ACGGT-ATCACG was imported succesfully\n",
      "Au_05828_TATAC-CGATGT was imported succesfully\n"
     ]
    },
    {
     "name": "stderr",
     "output_type": "stream",
     "text": [
      "/tmp/ipykernel_14442/389561293.py:2: DtypeWarning: Columns (0) have mixed types. Specify dtype option on import or set low_memory=False.\n",
      "  matches = pd.read_csv(matches_file,sep='\\t',\n"
     ]
    },
    {
     "name": "stdout",
     "output_type": "stream",
     "text": [
      "Ch_330_AATTA-CGATGT was imported succesfully\n",
      "Er_459_GTCCG-CGATGT was imported succesfully\n",
      "Ab_366_CGGCT-ATCACG was imported succesfully\n",
      "Er_450_GGCCA-CGATGT was imported succesfully\n",
      "Ch_332_AAGGA-ATCACG was imported succesfully\n",
      "Er_410_GCTGA-CGATGT was imported succesfully\n"
     ]
    },
    {
     "name": "stderr",
     "output_type": "stream",
     "text": [
      "/tmp/ipykernel_14442/389561293.py:2: DtypeWarning: Columns (0) have mixed types. Specify dtype option on import or set low_memory=False.\n",
      "  matches = pd.read_csv(matches_file,sep='\\t',\n"
     ]
    },
    {
     "name": "stdout",
     "output_type": "stream",
     "text": [
      "Er_R-15_AAGGA-CGATGT was imported succesfully\n"
     ]
    },
    {
     "name": "stderr",
     "output_type": "stream",
     "text": [
      "/tmp/ipykernel_14442/389561293.py:2: DtypeWarning: Columns (0) have mixed types. Specify dtype option on import or set low_memory=False.\n",
      "  matches = pd.read_csv(matches_file,sep='\\t',\n"
     ]
    },
    {
     "name": "stdout",
     "output_type": "stream",
     "text": [
      "Er_R-06_AACCA-CGATGT was imported succesfully\n"
     ]
    }
   ],
   "source": [
    "\n",
    "# Path to stacks results\n",
    "stacks_results_path = '/home/alexsanyum/meta_project/server_results/tepui_stacks'\n",
    "\n",
    "# Read catalog file\n",
    "catalog = glob.glob(stacks_results_path + '/catalog.tags*')\n",
    "catalog = read_catalog(catalog[0])\n",
    "\n",
    "# Iterate the function over all\n",
    "matches_list = glob.glob(stacks_results_path + '/*matches*')    \n",
    "for file in matches_list:\n",
    "    write_fasta(file,catalog)\n",
    "    "
   ]
  }
 ],
 "metadata": {
  "kernelspec": {
   "display_name": "Python 3 (ipykernel)",
   "language": "python",
   "name": "python3"
  },
  "language_info": {
   "codemirror_mode": {
    "name": "ipython",
    "version": 3
   },
   "file_extension": ".py",
   "mimetype": "text/x-python",
   "name": "python",
   "nbconvert_exporter": "python",
   "pygments_lexer": "ipython3",
   "version": "3.9.13"
  }
 },
 "nbformat": 4,
 "nbformat_minor": 5
}
